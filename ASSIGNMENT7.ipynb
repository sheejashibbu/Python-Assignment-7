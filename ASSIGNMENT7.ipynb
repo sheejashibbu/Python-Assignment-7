{
 "cells": [
  {
   "cell_type": "code",
   "execution_count": 3,
   "id": "50c42bb0-d237-4ef9-afd0-6408afd8d106",
   "metadata": {},
   "outputs": [],
   "source": [
    "import numpy as np\n"
   ]
  },
  {
   "cell_type": "code",
   "execution_count": 21,
   "id": "bb5ffc9c-84d6-4c59-8832-c15ffd90f1f1",
   "metadata": {},
   "outputs": [],
   "source": [
    "import pandas as pd"
   ]
  },
  {
   "cell_type": "code",
   "execution_count": 23,
   "id": "299dae77-c24e-4dac-b070-b2ef28ce84bb",
   "metadata": {},
   "outputs": [
    {
     "name": "stdout",
     "output_type": "stream",
     "text": [
      "[ 1  2  3  4  5  6  7  8  9 10]\n"
     ]
    }
   ],
   "source": [
    "arr = np.arange(1, 11)\n",
    "print(arr)"
   ]
  },
  {
   "cell_type": "code",
   "execution_count": 17,
   "id": "5de945c2-c061-44d2-a67e-8478d7b9c3f3",
   "metadata": {},
   "outputs": [
    {
     "name": "stdout",
     "output_type": "stream",
     "text": [
      "[[ 1  2]\n",
      " [ 3  4]\n",
      " [ 5  6]\n",
      " [ 7  8]\n",
      " [ 9 10]]\n"
     ]
    }
   ],
   "source": [
    "newarr = arr.reshape(5, 2)\n",
    "\n",
    "print(newarr)\n"
   ]
  },
  {
   "cell_type": "code",
   "execution_count": 7,
   "id": "b0a0004a-9673-4f7c-8f0a-f43a5f68ac6a",
   "metadata": {},
   "outputs": [],
   "source": [
    "arr = np.arange(1, 21)\n"
   ]
  },
  {
   "cell_type": "code",
   "execution_count": 10,
   "id": "42f648d7-ffd5-4953-aaf7-1ba4348c9c3b",
   "metadata": {},
   "outputs": [],
   "source": [
    "extracted_elements = arr[5:15]"
   ]
  },
  {
   "cell_type": "code",
   "execution_count": 13,
   "id": "e733a61c-5569-4a17-8cee-024ecc576434",
   "metadata": {},
   "outputs": [
    {
     "name": "stdout",
     "output_type": "stream",
     "text": [
      "[ 6  7  8  9 10 11 12 13 14 15]\n"
     ]
    }
   ],
   "source": [
    "print(extracted_elements)\n"
   ]
  },
  {
   "cell_type": "code",
   "execution_count": 29,
   "id": "c544eadd-2a40-41c6-8d7f-662c08fbed83",
   "metadata": {},
   "outputs": [],
   "source": [
    "data = {'apples': 3, 'bananas': 2, 'oranges': 1}\n"
   ]
  },
  {
   "cell_type": "code",
   "execution_count": 31,
   "id": "6584390c-b74c-4858-a956-eeb5d87664ab",
   "metadata": {},
   "outputs": [],
   "source": [
    "series = pd.Series(data)"
   ]
  },
  {
   "cell_type": "code",
   "execution_count": 33,
   "id": "ff02f3a4-9d11-4787-b87e-8d2ed5f4dc8f",
   "metadata": {},
   "outputs": [],
   "source": [
    "series['pears'] = 4\n"
   ]
  },
  {
   "cell_type": "code",
   "execution_count": 35,
   "id": "5a65a011-e377-4921-9193-84cfa5df184c",
   "metadata": {},
   "outputs": [
    {
     "name": "stdout",
     "output_type": "stream",
     "text": [
      "apples     3\n",
      "bananas    2\n",
      "oranges    1\n",
      "pears      4\n",
      "dtype: int64\n"
     ]
    }
   ],
   "source": [
    "\n",
    "print(series)"
   ]
  },
  {
   "cell_type": "code",
   "execution_count": 37,
   "id": "b7412242-666e-4107-bd6c-7bc5cb9a3efa",
   "metadata": {},
   "outputs": [],
   "source": [
    "data = {\n",
    "    'name': ['Alice', 'Bob', 'Charlie', 'David', 'Eva', 'Frank', 'Grace', 'Hannah', 'Ian', 'Jack'],\n",
    "    'age': [25, 30, 35, 40, 22, 28, 33, 27, 36, 31],\n",
    "    'gender': ['Female', 'Male', 'Male', 'Male', 'Female', 'Male', 'Female', 'Female', 'Male', 'Male']\n",
    "}"
   ]
  },
  {
   "cell_type": "code",
   "execution_count": 40,
   "id": "d79ec1df-1cbc-491c-9c5b-ce274167221b",
   "metadata": {},
   "outputs": [],
   "source": [
    "df = pd.DataFrame(data)"
   ]
  },
  {
   "cell_type": "code",
   "execution_count": 42,
   "id": "18f17ba9-caf1-4d97-a920-6834d056a829",
   "metadata": {},
   "outputs": [
    {
     "name": "stdout",
     "output_type": "stream",
     "text": [
      "      name  age  gender\n",
      "0    Alice   25  Female\n",
      "1      Bob   30    Male\n",
      "2  Charlie   35    Male\n",
      "3    David   40    Male\n",
      "4      Eva   22  Female\n",
      "5    Frank   28    Male\n",
      "6    Grace   33  Female\n",
      "7   Hannah   27  Female\n",
      "8      Ian   36    Male\n",
      "9     Jack   31    Male\n"
     ]
    }
   ],
   "source": [
    "print(df)"
   ]
  },
  {
   "cell_type": "code",
   "execution_count": 44,
   "id": "f4995a8b-3f2d-4321-8029-8bab34bf692d",
   "metadata": {},
   "outputs": [],
   "source": [
    "df['occupation'] = ['Programmer', 'Manager', 'Analyst', 'Programmer', 'Manager', 'Analyst', \n",
    "                     'Programmer', 'Manager', 'Analyst', 'Programmer']\n"
   ]
  },
  {
   "cell_type": "code",
   "execution_count": 47,
   "id": "69d41709-f04b-4d54-a688-474859d3c6d8",
   "metadata": {},
   "outputs": [
    {
     "name": "stdout",
     "output_type": "stream",
     "text": [
      "      name  age  gender  occupation\n",
      "0    Alice   25  Female  Programmer\n",
      "1      Bob   30    Male     Manager\n",
      "2  Charlie   35    Male     Analyst\n",
      "3    David   40    Male  Programmer\n",
      "4      Eva   22  Female     Manager\n",
      "5    Frank   28    Male     Analyst\n",
      "6    Grace   33  Female  Programmer\n",
      "7   Hannah   27  Female     Manager\n",
      "8      Ian   36    Male     Analyst\n",
      "9     Jack   31    Male  Programmer\n"
     ]
    }
   ],
   "source": [
    "print(df)"
   ]
  },
  {
   "cell_type": "code",
   "execution_count": 49,
   "id": "5b1d8d15-523a-45e8-9748-8fc7b8776204",
   "metadata": {},
   "outputs": [],
   "source": [
    "filtered_df = df[df['age'] >= 30]"
   ]
  },
  {
   "cell_type": "code",
   "execution_count": 51,
   "id": "8f7c6eaa-bed1-4df1-b1a4-d0c5cf746b3c",
   "metadata": {},
   "outputs": [
    {
     "name": "stdout",
     "output_type": "stream",
     "text": [
      "      name  age  gender  occupation\n",
      "1      Bob   30    Male     Manager\n",
      "2  Charlie   35    Male     Analyst\n",
      "3    David   40    Male  Programmer\n",
      "6    Grace   33  Female  Programmer\n",
      "8      Ian   36    Male     Analyst\n",
      "9     Jack   31    Male  Programmer\n"
     ]
    }
   ],
   "source": [
    "print(filtered_df)"
   ]
  },
  {
   "cell_type": "code",
   "execution_count": 53,
   "id": "de32a9ce-9fc2-4c41-a64b-318cda3941b8",
   "metadata": {},
   "outputs": [],
   "source": [
    "csv_file = 'filtered_data.csv'\n",
    "filtered_df.to_csv(csv_file, index=False)\n"
   ]
  },
  {
   "cell_type": "code",
   "execution_count": 55,
   "id": "31fd5a6f-b6f0-44ca-95ca-635a7e8c3a3e",
   "metadata": {},
   "outputs": [],
   "source": [
    "read_df = pd.read_csv(csv_file)"
   ]
  },
  {
   "cell_type": "code",
   "execution_count": 57,
   "id": "60cdab84-cf3e-4482-b56e-32982cc024d9",
   "metadata": {},
   "outputs": [
    {
     "name": "stdout",
     "output_type": "stream",
     "text": [
      "      name  age  gender  occupation\n",
      "0      Bob   30    Male     Manager\n",
      "1  Charlie   35    Male     Analyst\n",
      "2    David   40    Male  Programmer\n",
      "3    Grace   33  Female  Programmer\n",
      "4      Ian   36    Male     Analyst\n"
     ]
    }
   ],
   "source": [
    "print(read_df.head())"
   ]
  },
  {
   "cell_type": "code",
   "execution_count": null,
   "id": "62e23959-da4c-471a-a98e-cac724903f46",
   "metadata": {},
   "outputs": [],
   "source": []
  }
 ],
 "metadata": {
  "kernelspec": {
   "display_name": "Python 3 (ipykernel)",
   "language": "python",
   "name": "python3"
  },
  "language_info": {
   "codemirror_mode": {
    "name": "ipython",
    "version": 3
   },
   "file_extension": ".py",
   "mimetype": "text/x-python",
   "name": "python",
   "nbconvert_exporter": "python",
   "pygments_lexer": "ipython3",
   "version": "3.12.7"
  }
 },
 "nbformat": 4,
 "nbformat_minor": 5
}
